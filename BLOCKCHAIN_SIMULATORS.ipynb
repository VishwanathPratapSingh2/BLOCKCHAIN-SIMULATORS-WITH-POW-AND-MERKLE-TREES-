{
  "nbformat": 4,
  "nbformat_minor": 0,
  "metadata": {
    "colab": {
      "provenance": [],
      "authorship_tag": "ABX9TyMVFKs0CxTmGkEggat6lp/9",
      "include_colab_link": true
    },
    "kernelspec": {
      "name": "python3",
      "display_name": "Python 3"
    },
    "language_info": {
      "name": "python"
    }
  },
  "cells": [
    {
      "cell_type": "markdown",
      "metadata": {
        "id": "view-in-github",
        "colab_type": "text"
      },
      "source": [
        "<a href=\"https://colab.research.google.com/github/VishwanathPratapSingh2/BLOCKCHAIN-SIMULATORS-WITH-POW-AND-MERKLE-TREES-/blob/main/BLOCKCHAIN_SIMULATORS.ipynb\" target=\"_parent\"><img src=\"https://colab.research.google.com/assets/colab-badge.svg\" alt=\"Open In Colab\"/></a>"
      ]
    },
    {
      "cell_type": "markdown",
      "source": [
        "IMPORT LIBRARIES\n"
      ],
      "metadata": {
        "id": "hu-bu4t2tXN1"
      }
    },
    {
      "cell_type": "code",
      "execution_count": 1,
      "metadata": {
        "id": "im4iDjv2qlbM"
      },
      "outputs": [],
      "source": [
        "\n",
        "import hashlib  # For cryptographic hash functions\n",
        "import time     # For timestamping blocks\n",
        "import json     # For serializing block data\n"
      ]
    },
    {
      "cell_type": "markdown",
      "source": [
        "DEFINING BLOCK CLASS"
      ],
      "metadata": {
        "id": "1LykC0SPtgPD"
      }
    },
    {
      "cell_type": "code",
      "source": [
        "\n",
        "class Block:\n",
        "    \"\"\"Represents a single block in the blockchain\"\"\"\n",
        "\n",
        "    def __init__(self, index, previous_hash, data, nonce=0):\n",
        "        \"\"\"\n",
        "        Initialize a new block\n",
        "\n",
        "        Parameters:\n",
        "            index (int): Position in the blockchain\n",
        "            previous_hash (str): Hash of the previous block\n",
        "            data (str): Block data (transactions)\n",
        "            nonce (int): Proof-of-work number (default 0)\n",
        "        \"\"\"\n",
        "        self.index = index\n",
        "        self.timestamp = time.time()\n",
        "        self.previous_hash = previous_hash\n",
        "        self.data = data\n",
        "        self.nonce = nonce\n",
        "        self.hash = self.calculate_hash()\n",
        "\n",
        "    def calculate_hash(self):\n",
        "        \"\"\"Calculate the SHA-256 hash of the block's contents\"\"\"\n",
        "        block_string = json.dumps({\n",
        "            \"index\": self.index,\n",
        "            \"timestamp\": self.timestamp,\n",
        "            \"previous_hash\": self.previous_hash,\n",
        "            \"data\": self.data,\n",
        "            \"nonce\": self.nonce\n",
        "        }, sort_keys=True).encode()\n",
        "        return hashlib.sha256(block_string).hexdigest()\n"
      ],
      "metadata": {
        "id": "7QLhl7lLq9AL"
      },
      "execution_count": 2,
      "outputs": []
    },
    {
      "cell_type": "markdown",
      "source": [
        "MINING FUNCTION"
      ],
      "metadata": {
        "id": "kpILWdtvtlng"
      }
    },
    {
      "cell_type": "code",
      "source": [
        "\n",
        "\n",
        "def mine_block(block, difficulty=4):\n",
        "    \"\"\"\n",
        "    Perform proof-of-work mining on a block\n",
        "\n",
        "    Parameters:\n",
        "        block (Block): The block to mine\n",
        "        difficulty (int): Number of leading zeros required (default 4)\n",
        "\n",
        "    Returns:\n",
        "        Block: The mined block with valid nonce\n",
        "    \"\"\"\n",
        "    prefix = '0' * difficulty\n",
        "    while not block.hash.startswith(prefix):\n",
        "        block.nonce += 1\n",
        "        block.hash = block.calculate_hash()\n",
        "    return block"
      ],
      "metadata": {
        "id": "b-ihXGC0rNiL"
      },
      "execution_count": 3,
      "outputs": []
    },
    {
      "cell_type": "markdown",
      "source": [
        "BLOCKCHAIN CLASS DEFINITION\n"
      ],
      "metadata": {
        "id": "Z-ujDLSrtuAO"
      }
    },
    {
      "cell_type": "code",
      "source": [
        "\n",
        "class Blockchain:\n",
        "    \"\"\"Represents the complete blockchain\"\"\"\n",
        "\n",
        "    def __init__(self):\n",
        "        \"\"\"Initialize the blockchain with genesis block\"\"\"\n",
        "        self.chain = [self.create_genesis_block()]\n",
        "        self.difficulty = 4\n",
        "\n",
        "    def create_genesis_block(self):\n",
        "        \"\"\"Create the first block in the chain (genesis block)\"\"\"\n",
        "        return Block(0, \"0\", \"Genesis Block\")\n",
        "\n",
        "    def add_block(self, new_block):\n",
        "        \"\"\"\n",
        "        Add a new block to the blockchain after mining\n",
        "\n",
        "        Parameters:\n",
        "            new_block (Block): The block to add\n",
        "        \"\"\"\n",
        "\n",
        "        new_block.previous_hash = self.chain[-1].hash\n",
        "\n",
        "        mined_block = mine_block(new_block, self.difficulty)\n",
        "\n",
        "        self.chain.append(mined_block)\n",
        "\n",
        "    def is_chain_valid(self):\n",
        "        \"\"\"\n",
        "        Validate the integrity of the blockchain\n",
        "\n",
        "        Returns:\n",
        "            bool: True if chain is valid, False otherwise\n",
        "        \"\"\"\n",
        "        for i in range(1, len(self.chain)):\n",
        "            current = self.chain[i]\n",
        "            previous = self.chain[i-1]\n",
        "\n",
        "\n",
        "            if current.hash != current.calculate_hash():\n",
        "                return False\n",
        "\n",
        "\n",
        "            if current.previous_hash != previous.hash:\n",
        "                return False\n",
        "\n",
        "        return True"
      ],
      "metadata": {
        "id": "zEGlNKJ3rSJh"
      },
      "execution_count": 4,
      "outputs": []
    },
    {
      "cell_type": "markdown",
      "source": [
        "CODE DEMONSTRATION\n"
      ],
      "metadata": {
        "id": "BZh2GBrxt44q"
      }
    },
    {
      "cell_type": "code",
      "source": [
        "\n",
        "if __name__ == \"__main__\":\n",
        "\n",
        "    print(\"Initializing blockchain...\")\n",
        "    blockchain = Blockchain()\n",
        "\n",
        "\n",
        "    print(\"\\nMining Block 1...\")\n",
        "    blockchain.add_block(Block(1, \"\", \"Transaction 1\"))\n",
        "\n",
        "\n",
        "    print(\"Mining Block 2...\")\n",
        "    blockchain.add_block(Block(2, \"\", \"Transaction 2\"))\n",
        "\n",
        "\n",
        "    print(\"\\nBlockchain contents:\")\n",
        "    for block in blockchain.chain:\n",
        "        print(f\"\\nBlock {block.index}:\")\n",
        "        print(f\"  Timestamp: {block.timestamp}\")\n",
        "        print(f\"  Previous Hash: {block.previous_hash}\")\n",
        "        print(f\"  Data: {block.data}\")\n",
        "        print(f\"  Nonce: {block.nonce}\")\n",
        "        print(f\"  Hash: {block.hash}\")\n",
        "\n",
        "\n",
        "\n",
        ""
      ],
      "metadata": {
        "colab": {
          "base_uri": "https://localhost:8080/"
        },
        "id": "EYdQPNuPrn8p",
        "outputId": "e4013927-2f6f-434c-a5dd-4fc2e0f505d2"
      },
      "execution_count": 30,
      "outputs": [
        {
          "output_type": "stream",
          "name": "stdout",
          "text": [
            "Initializing blockchain...\n",
            "\n",
            "Mining Block 1...\n",
            "Mining Block 2...\n",
            "\n",
            "Blockchain contents:\n",
            "\n",
            "Block 0:\n",
            "  Timestamp: 1751168389.0662854\n",
            "  Previous Hash: 0\n",
            "  Data: Genesis Block\n",
            "  Nonce: 0\n",
            "  Hash: 40d3633a052ebf8f9ea9dddcf23f7ec63126fcfcc49199cb437ac45533308d47\n",
            "\n",
            "Block 1:\n",
            "  Timestamp: 1751168389.0663798\n",
            "  Previous Hash: 40d3633a052ebf8f9ea9dddcf23f7ec63126fcfcc49199cb437ac45533308d47\n",
            "  Data: Transaction 1\n",
            "  Nonce: 204015\n",
            "  Hash: 0000aba0a75035a74c0ffc7e08ffe0c52d3037cfa2d1171f5e327bcef3be3524\n",
            "\n",
            "Block 2:\n",
            "  Timestamp: 1751168390.9663038\n",
            "  Previous Hash: 0000aba0a75035a74c0ffc7e08ffe0c52d3037cfa2d1171f5e327bcef3be3524\n",
            "  Data: Transaction 2\n",
            "  Nonce: 35173\n",
            "  Hash: 00001573ca88f404c7385b33824488f4481ac910699e9f6113d0e514312a2891\n"
          ]
        }
      ]
    },
    {
      "cell_type": "markdown",
      "source": [
        "Blockchain validation\n"
      ],
      "metadata": {
        "id": "pRh4DWdQwRLs"
      }
    },
    {
      "cell_type": "code",
      "source": [
        "\n",
        "print(\"\\nBlockchain validation:\")\n",
        "if blockchain.is_chain_valid():\n",
        "    print(\"yes, Blockchain is valid\")\n",
        "else:\n",
        "    print(\"NO, Blockchain is corrupted\")"
      ],
      "metadata": {
        "colab": {
          "base_uri": "https://localhost:8080/"
        },
        "id": "pJzQ2WXeutGV",
        "outputId": "502fe758-ccfb-4f54-bc5d-2ff17a76847a"
      },
      "execution_count": 29,
      "outputs": [
        {
          "output_type": "stream",
          "name": "stdout",
          "text": [
            "\n",
            "Blockchain validation:\n",
            "NO, Blockchain is corrupted\n"
          ]
        }
      ]
    },
    {
      "cell_type": "markdown",
      "source": [
        "AFTER Attempting a change with the blockchain"
      ],
      "metadata": {
        "id": "Lb0odXT1wZIJ"
      }
    },
    {
      "cell_type": "code",
      "source": [
        "\n",
        "print(\"\\nAttempting to change with Block 1...\")\n",
        "blockchain.chain[1].data = \"Modified Transaction\"\n",
        "\n",
        "\n",
        "print(\"Blockchain validation after change:\")\n",
        "if blockchain.is_chain_valid():\n",
        "    print(\"yes, Blockchain is valid\")\n",
        "else:\n",
        "    print(\"NO, Blockchain is corrupted (change detected)\")"
      ],
      "metadata": {
        "colab": {
          "base_uri": "https://localhost:8080/"
        },
        "id": "D54Bu7nFv8qK",
        "outputId": "33ee9721-5a8f-416f-ef89-ce9d1464b977"
      },
      "execution_count": 28,
      "outputs": [
        {
          "output_type": "stream",
          "name": "stdout",
          "text": [
            "\n",
            "Attempting to change with Block 1...\n",
            "Blockchain validation after change:\n",
            "NO, Blockchain is corrupted (change detected)\n"
          ]
        }
      ]
    }
  ]
}